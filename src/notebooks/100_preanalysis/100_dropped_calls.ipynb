{
 "cells": [
  {
   "cell_type": "markdown",
   "metadata": {},
   "source": [
    "# How many NTL calls will be dropped?\n",
    "\n",
    "In this notebook, we explore the number of Nurse Triage Line calls that _would have been_ sent to Basic Life Support had the NTL we are implementing existed in 2016. That is, if there were $R$ nurses available between 7am and 11pm, with $R_\\ell$ of them being local, how many calls would get sent directly to the _status quo_ BLS service instead of being serviced by the nurse."
   ]
  },
  {
   "cell_type": "code",
   "execution_count": null,
   "metadata": {},
   "outputs": [],
   "source": [
    "from collections import deque\n",
    "from datetime import timedelta\n",
    "\n",
    "import numpy as np\n",
    "import pandas as pd\n",
    "from matplotlib import pyplot as plt\n",
    "\n",
    "from femsntl.datafiles import EMS_EVENTS_2016"
   ]
  },
  {
   "cell_type": "code",
   "execution_count": null,
   "metadata": {},
   "outputs": [],
   "source": [
    "df = pd.read_csv(EMS_EVENTS_2016)"
   ]
  },
  {
   "cell_type": "markdown",
   "metadata": {},
   "source": [
    "## A little exploration\n",
    "\n",
    "The NTL will introduce a new coding system to OUC calling out new, specific dispatch codes which are NTL-eligible. In our discussions with FEMS, the old `Alpha` and `Omega` codes form a rough superset of all the new NTL-eligible codes. Thus, to compute a conservative estimate of all dropped calls, we can examine only the Alphas and Omegas."
   ]
  },
  {
   "cell_type": "code",
   "execution_count": null,
   "metadata": {},
   "outputs": [],
   "source": [
    "# Keep the time of the call and the dispatch code; mark whether the call is A or O\n",
    "df = df[[\"AD_TS\", \"TYCOD\"]]\n",
    "df = df.copy()\n",
    "df[\"ao\"] = df.TYCOD.apply(lambda x: (len(str(x)) >= 3) and (str(x)[2].upper() in \"AO\"))\n",
    "\n",
    "print(\"Proportion of all class which are A or O\", df.ao.mean())"
   ]
  },
  {
   "cell_type": "code",
   "execution_count": null,
   "metadata": {},
   "outputs": [],
   "source": [
    "# Convert the timestamp field to an actual timestamp\n",
    "print(df.AD_TS.sample(n=10))\n",
    "df[\"ad_ts\"] = df.AD_TS.apply(lambda x: pd.to_datetime(x[:-2]))"
   ]
  },
  {
   "cell_type": "code",
   "execution_count": null,
   "metadata": {},
   "outputs": [],
   "source": [
    "plt.figure(figsize=(10, 8))\n",
    "\n",
    "df.groupby(pd.Grouper(key=\"ad_ts\", freq=\"D\")).size().plot(label=\"All calls\")\n",
    "df[df.ao].groupby(pd.Grouper(key=\"ad_ts\", freq=\"D\")).size().plot(label=\"AO calls\")\n",
    "\n",
    "plt.xlabel(\"Time of call\")\n",
    "plt.ylabel(\"Count of calls\")\n",
    "plt.title(\"Number of calls per day\")\n",
    "plt.legend()\n",
    "plt.show();"
   ]
  },
  {
   "cell_type": "code",
   "execution_count": null,
   "metadata": {},
   "outputs": [],
   "source": [
    "print(\"AO calls per day of week\")\n",
    "df[df.ao].ad_ts.dt.dayofweek.value_counts().sort_index()"
   ]
  },
  {
   "cell_type": "code",
   "execution_count": null,
   "metadata": {},
   "outputs": [],
   "source": [
    "print(\"All calls per day of week\")\n",
    "df.ad_ts.dt.dayofweek.value_counts().sort_index()"
   ]
  },
  {
   "cell_type": "markdown",
   "metadata": {},
   "source": [
    "## Computing dropped calls\n",
    "\n",
    "In order to compute how many calls actually end up being dropped, we assume that each call takes a fixed number of minutes and that once a call is complete, the nurse is immediately available."
   ]
  },
  {
   "cell_type": "code",
   "execution_count": null,
   "metadata": {},
   "outputs": [],
   "source": [
    "def dropped_timestamps(timestamps, delta=timedelta(minutes=10), num_slots=6):\n",
    "    \"\"\"\n",
    "    Determine which calls at which timestamps would end up dropped if there\n",
    "    are fixed number of slots available and the calls are of a fixed length.\n",
    "\n",
    "    Arguments:\n",
    "        timestamps (list[datetime]): The list of call times\n",
    "        delta (timedelta): The fixed length of the call\n",
    "        num_slots (int): The number of slots available for calls\n",
    "\n",
    "    Returns:\n",
    "        list[(int, datetime, int)]: The index, timestamp, and which slot\n",
    "            answered the call. If the slot == num_slots, the call was\n",
    "            dropped. Slots in [0, num_slots) are actual slots.\n",
    "    \"\"\"\n",
    "    timestamps = sorted(timestamps)\n",
    "\n",
    "    on_call = deque([])\n",
    "    nurse_idx = []\n",
    "\n",
    "    for i, next_call in enumerate(timestamps):\n",
    "        # Remove calls which are now over\n",
    "        while on_call and on_call[0] < next_call:\n",
    "            on_call.popleft()\n",
    "\n",
    "        if len(on_call) < num_slots:\n",
    "            nurse_idx.append((i, next_call, len(on_call)))\n",
    "            on_call.append(next_call + delta)\n",
    "        else:\n",
    "            nurse_idx.append((i, next_call, num_slots))\n",
    "    return nurse_idx"
   ]
  },
  {
   "cell_type": "markdown",
   "metadata": {},
   "source": [
    "### Visualize the world where _all_ AO calls are sent to the nurse"
   ]
  },
  {
   "cell_type": "code",
   "execution_count": null,
   "metadata": {},
   "outputs": [],
   "source": [
    "nurse_idx = dropped_timestamps(df[df.ao].ad_ts)\n",
    "nurse_df = pd.DataFrame.from_records(nurse_idx, columns=[\"idx\", \"timestamp\", \"nurse\"])\n",
    "ddf = (\n",
    "    nurse_df.groupby([\"nurse\", pd.Grouper(key=\"timestamp\", freq=\"D\")])\n",
    "    .size()\n",
    "    .rename(\"num_calls\")\n",
    "    .reset_index()\n",
    ")"
   ]
  },
  {
   "cell_type": "code",
   "execution_count": null,
   "metadata": {},
   "outputs": [],
   "source": [
    "for nurse in ddf.nurse.unique():\n",
    "    ddf[ddf.nurse == nurse].groupby(\n",
    "        pd.Grouper(key=\"timestamp\", freq=\"W\")\n",
    "    ).num_calls.sum().plot(label=str(nurse), logy=True)\n",
    "plt.xlabel(\"Date of call\")\n",
    "plt.ylabel(\"Number of calls per Week\")\n",
    "plt.title(\"Number of calls per week assigned to each slot\")\n",
    "plt.legend();"
   ]
  },
  {
   "cell_type": "code",
   "execution_count": null,
   "metadata": {},
   "outputs": [],
   "source": []
  },
  {
   "cell_type": "markdown",
   "metadata": {},
   "source": [
    "### Visualize the study universe\n",
    "\n",
    "In our study, the nurse will be available from 7am until 11pm. Moreover, only a random half of eligible callers will be sent to the nurse."
   ]
  },
  {
   "cell_type": "code",
   "execution_count": null,
   "metadata": {},
   "outputs": [],
   "source": [
    "eligible_df = df[df.ao & (df.ad_ts.dt.hour >= 7) & (df.ad_ts.dt.hour < 23)]\n",
    "is_treatment = (np.arange(len(eligible_df)) % 2).astype(bool)\n",
    "r = np.random.RandomState(25)\n",
    "r.shuffle(is_treatment)"
   ]
  },
  {
   "cell_type": "code",
   "execution_count": null,
   "metadata": {},
   "outputs": [],
   "source": [
    "def _plot_drops_by_timeperiod(timestamps, delta_minutes, tp, num_slots=4, ax=None):\n",
    "    delta = timedelta(minutes=delta_minutes)\n",
    "    nurse_idx = dropped_timestamps(timestamps, delta=delta, num_slots=num_slots)\n",
    "    nurse_df = pd.DataFrame.from_records(\n",
    "        nurse_idx, columns=[\"idx\", \"timestamp\", \"nurse\"]\n",
    "    )\n",
    "\n",
    "    if tp == \"H\":\n",
    "        counts_df = (\n",
    "            nurse_df.groupby([\"nurse\", nurse_df.timestamp.dt.hour])\n",
    "            .size()\n",
    "            .rename(\"num_calls\")\n",
    "        )\n",
    "    else:\n",
    "        counts_df = (\n",
    "            nurse_df.groupby([\"nurse\", pd.Grouper(key=\"timestamp\", freq=tp)])\n",
    "            .size()\n",
    "            .rename(\"num_calls\")\n",
    "        )\n",
    "\n",
    "    for nurse in nurse_df.nurse.unique():\n",
    "        counts_df.loc[nurse].plot(label=nurse, logy=True, ax=ax)\n",
    "    ax.set_label(\"\")\n",
    "\n",
    "    counts_df = counts_df.reset_index()\n",
    "    percent_dropped = (\n",
    "        counts_df[counts_df.nurse >= num_slots].num_calls.sum()\n",
    "        / counts_df.num_calls.sum()\n",
    "    )\n",
    "    ax.set_title(\n",
    "        f\"{delta_minutes} min triage: {round(percent_dropped * 100, 2)}% Dropped\"\n",
    "    )\n",
    "\n",
    "\n",
    "def plot_drops_by_hour(timestamps, delta_minutes, num_slots=4, ax=None):\n",
    "    _plot_drops_by_timeperiod(\n",
    "        timestamps, delta_minutes, \"H\", num_slots=num_slots, ax=ax\n",
    "    )\n",
    "\n",
    "\n",
    "def plot_drops_by_week(timestamps, delta_minutes, num_slots=4, ax=None):\n",
    "    _plot_drops_by_timeperiod(\n",
    "        timestamps, delta_minutes, \"W\", num_slots=num_slots, ax=ax\n",
    "    )"
   ]
  },
  {
   "cell_type": "code",
   "execution_count": null,
   "metadata": {},
   "outputs": [],
   "source": [
    "fig, axs = plt.subplots(nrows=3, ncols=2, figsize=(6.5 * 2, 9 * 2))\n",
    "\n",
    "plot_drops_by_week(eligible_df[is_treatment].ad_ts, 10, ax=axs[0, 0])\n",
    "plot_drops_by_week(eligible_df[is_treatment].ad_ts, 12.5, ax=axs[1, 0])\n",
    "plot_drops_by_week(eligible_df[is_treatment].ad_ts, 15, ax=axs[2, 0])\n",
    "\n",
    "plot_drops_by_hour(eligible_df[is_treatment].ad_ts, 10, ax=axs[0, 1])\n",
    "plot_drops_by_hour(eligible_df[is_treatment].ad_ts, 12.5, ax=axs[1, 1])\n",
    "plot_drops_by_hour(eligible_df[is_treatment].ad_ts, 15, ax=axs[2, 1])\n",
    "\n",
    "for i in [0, 1]:\n",
    "    for j in [0, 1]:\n",
    "        axs[i, j].set_xlabel(\"\")\n",
    "        axs[i, j].set_xticks([], minor=True)\n",
    "        axs[i, j].set_xticks([], minor=False)\n",
    "        axs[i, j].set_xticklabels([], minor=True)\n",
    "        axs[i, j].set_xticklabels([], minor=False)\n",
    "axs[2, 0].set_xlabel(\"Week\")\n",
    "axs[2, 1].set_xlabel(\"Hour of Day\");"
   ]
  },
  {
   "cell_type": "code",
   "execution_count": null,
   "metadata": {},
   "outputs": [],
   "source": [
    "def percent_local_by_week(timestamps, delta_minutes, num_local=1, num_slots=4):\n",
    "    delta = timedelta(minutes=delta_minutes)\n",
    "    nurse_idx = dropped_timestamps(timestamps, delta=delta, num_slots=num_slots)\n",
    "    nurse_df = pd.DataFrame.from_records(\n",
    "        nurse_idx, columns=[\"idx\", \"timestamp\", \"nurse\"]\n",
    "    )\n",
    "    ddf = (\n",
    "        nurse_df.groupby([\"nurse\", pd.Grouper(key=\"timestamp\", freq=\"W\")])\n",
    "        .size()\n",
    "        .rename(\"num_calls\")\n",
    "        .reset_index()\n",
    "    )\n",
    "\n",
    "    return ddf[ddf.nurse < num_local].num_calls.sum() / ddf.num_calls.sum()"
   ]
  },
  {
   "cell_type": "code",
   "execution_count": null,
   "metadata": {},
   "outputs": [],
   "source": [
    "for minutes in [10, 12.5, 15]:\n",
    "    for num_local in [1, 2, 3, 4]:\n",
    "        print(\n",
    "            minutes,\n",
    "            num_local,\n",
    "            percent_local_by_week(\n",
    "                eligible_df[is_treatment].ad_ts, minutes, num_local=num_local\n",
    "            ),\n",
    "        )"
   ]
  },
  {
   "cell_type": "code",
   "execution_count": null,
   "metadata": {},
   "outputs": [],
   "source": []
  }
 ],
 "metadata": {
  "kernelspec": {
   "display_name": "Python 3",
   "language": "python",
   "name": "python3"
  },
  "language_info": {
   "codemirror_mode": {
    "name": "ipython",
    "version": 3
   },
   "file_extension": ".py",
   "mimetype": "text/x-python",
   "name": "python",
   "nbconvert_exporter": "python",
   "pygments_lexer": "ipython3",
   "version": "3.6.3"
  }
 },
 "nbformat": 4,
 "nbformat_minor": 2
}
