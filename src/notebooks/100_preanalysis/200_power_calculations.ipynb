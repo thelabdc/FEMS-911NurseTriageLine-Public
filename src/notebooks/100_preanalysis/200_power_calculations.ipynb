{
 "cells": [
  {
   "cell_type": "markdown",
   "metadata": {},
   "source": [
    "## Power calcuations"
   ]
  },
  {
   "cell_type": "markdown",
   "metadata": {},
   "source": [
    "In this notebook we perform the power calculations that appear in our pre-analysis plan."
   ]
  },
  {
   "cell_type": "code",
   "execution_count": null,
   "metadata": {},
   "outputs": [],
   "source": [
    "import io\n",
    "\n",
    "import numpy as np\n",
    "import pandas as pd\n",
    "from matplotlib import pyplot as plt\n",
    "from statsmodels.stats import api as sms\n",
    "\n",
    "%matplotlib inline"
   ]
  },
  {
   "cell_type": "code",
   "execution_count": null,
   "metadata": {},
   "outputs": [],
   "source": [
    "# Here we set out how many hypotheses we are testing (NUM_HYPOTHESES),\n",
    "# the desired false positive rate of the study (ALPHA) and the\n",
    "# desired True Negative Rate (POWER). The number of hypotheses is used\n",
    "# for a Bonferoni correction.\n",
    "\n",
    "NUM_HYPOTHESES = 8\n",
    "ALPHA = 0.05\n",
    "POWER = 0.8"
   ]
  },
  {
   "cell_type": "markdown",
   "metadata": {},
   "source": [
    "### Binary outcomes\n",
    "\n",
    "In this section we focus on binary outcomes. We produce graphs of what effects will be detectable if we have three different sample sizes (called `Upper`, `Medium`, and `Lower`) and different base rates (spanning `Base Lower` and `Base Upper`)."
   ]
  },
  {
   "cell_type": "code",
   "execution_count": null,
   "metadata": {},
   "outputs": [],
   "source": [
    "binary_df = pd.read_csv(\n",
    "    io.StringIO(\n",
    "        \"\"\"\n",
    "Description,Upper,Medium,Lower,Base Lower,Base Upper\n",
    "PCP,16665,5400.0,2400,0.07,0.12\n",
    "ED,16665,5400.0,2400,0.88,0.93\n",
    "Adherence,1680,544.3744374437443,240,0.5,0.55\n",
    "Ambulance,25200,8165.616561656165,3600,0.9,0.96\n",
    "Misuse,25200,8165.616561656165,3600,0.13,0.17\n",
    "\"\"\"\n",
    "    )\n",
    ")"
   ]
  },
  {
   "cell_type": "code",
   "execution_count": null,
   "metadata": {},
   "outputs": [],
   "source": [
    "# All effect sizes are computed in terms of Cohen's h. This inverts Cohen's h to give a range of proportions\n",
    "\n",
    "\n",
    "def hinv(h, p):\n",
    "    phi = 2 * np.arcsin(np.sqrt(p))\n",
    "    p1 = np.sin((h - phi) / 2) ** 2\n",
    "    p2 = np.sin((h + phi) / 2) ** 2\n",
    "    return tuple(sorted((p1, p2)))"
   ]
  },
  {
   "cell_type": "code",
   "execution_count": null,
   "metadata": {},
   "outputs": [],
   "source": [
    "p = sms.NormalIndPower()\n",
    "\n",
    "for _, row in binary_df.iterrows():\n",
    "    xrange = np.linspace(row[\"Base Lower\"], row[\"Base Upper\"], 30)\n",
    "    for sample_size_name, color in zip(\n",
    "        [\"Lower\", \"Medium\", \"Upper\"], [\"green\", \"orange\", \"blue\"]\n",
    "    ):\n",
    "        sample_size = row[sample_size_name]\n",
    "        effect_size = p.solve_power(\n",
    "            nobs1=sample_size / 2, alpha=ALPHA / NUM_HYPOTHESES, power=POWER\n",
    "        )\n",
    "        ys = [hinv(effect_size, x) for x in xrange]\n",
    "        plt.fill_between(\n",
    "            xrange,\n",
    "            [y[0] for y in ys],\n",
    "            [y[1] for y in ys],\n",
    "            label=f\"{int(sample_size)}\",\n",
    "            facecolor=color,\n",
    "        )\n",
    "    plt.xlabel(\"Base Rate\")\n",
    "    plt.ylabel(\"Undetectable Range\")\n",
    "    plt.legend(loc=\"upper left\")\n",
    "    plt.show();"
   ]
  },
  {
   "cell_type": "markdown",
   "metadata": {},
   "source": [
    "### Continuous outcomes\n",
    "\n",
    "In this section we focus on continuous outcomes. We produce graphs of what effects will be detectable if we have three different sample sizes (called `Upper`, `Medium`, and `Lower`) and different mean base rates (spanning `Base Mean Lower` and `Base Mean Upper`) for a fixed standard deviation in our population (`Standard Deviation`)."
   ]
  },
  {
   "cell_type": "code",
   "execution_count": null,
   "metadata": {},
   "outputs": [],
   "source": [
    "continuous_df = pd.read_csv(\n",
    "    io.StringIO(\n",
    "        \"\"\"\n",
    "Description,Upper,Medium,Lower,Base Mean Lower,Base Mean Upper,Standard Deviation\n",
    "Hardship,25200,8165.616561656165,3600,400,500,225\n",
    "Savings,25200,8165.616561656165,3600,-1,1,225\n",
    "Expenditures,25200,8165.616561656165,3600,8000,10000,5000\n",
    "\"\"\"\n",
    "    )\n",
    ")"
   ]
  },
  {
   "cell_type": "code",
   "execution_count": null,
   "metadata": {},
   "outputs": [],
   "source": [
    "# All effect sizes are computed in terms of Cohen's d. This inverts Cohen's d to give a range of proportions\n",
    "\n",
    "\n",
    "def dinv(d, mu, s):\n",
    "    return (mu - d * s, mu + d * s)"
   ]
  },
  {
   "cell_type": "code",
   "execution_count": null,
   "metadata": {},
   "outputs": [],
   "source": [
    "p = sms.TTestIndPower()\n",
    "\n",
    "for _, row in continuous_df.iterrows():\n",
    "    xrange = np.linspace(row[\"Base Mean Lower\"], row[\"Base Mean Upper\"], 30)\n",
    "    for sample_size_name, color in zip(\n",
    "        [\"Lower\", \"Medium\", \"Upper\"], [\"green\", \"orange\", \"blue\"]\n",
    "    ):\n",
    "        sample_size = row[sample_size_name]\n",
    "        effect_size = p.solve_power(\n",
    "            nobs1=sample_size / 2, alpha=ALPHA / NUM_HYPOTHESES, power=POWER\n",
    "        )\n",
    "        ys = [dinv(effect_size, x, row[\"Standard Deviation\"]) for x in xrange]\n",
    "        plt.fill_between(\n",
    "            xrange,\n",
    "            [y[0] for y in ys],\n",
    "            [y[1] for y in ys],\n",
    "            label=f\"{int(sample_size)}\",\n",
    "            facecolor=color,\n",
    "        )\n",
    "    plt.xlabel(\"Base Rate\")\n",
    "    plt.ylabel(\"Undetectable Range\")\n",
    "    plt.legend(loc=\"upper left\")\n",
    "    plt.show();"
   ]
  },
  {
   "cell_type": "code",
   "execution_count": null,
   "metadata": {},
   "outputs": [],
   "source": []
  }
 ],
 "metadata": {
  "kernelspec": {
   "display_name": "Python 3",
   "language": "python",
   "name": "python3"
  },
  "language_info": {
   "codemirror_mode": {
    "name": "ipython",
    "version": 3
   },
   "file_extension": ".py",
   "mimetype": "text/x-python",
   "name": "python",
   "nbconvert_exporter": "python",
   "pygments_lexer": "ipython3",
   "version": "3.6.3"
  }
 },
 "nbformat": 4,
 "nbformat_minor": 2
}
