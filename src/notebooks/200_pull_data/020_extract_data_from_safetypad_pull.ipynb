{
 "cells": [
  {
   "cell_type": "markdown",
   "metadata": {},
   "source": [
    "## Extracting data from SafetyPAD API Pull\n",
    "\n",
    "The previous script _pulled_ data from the SafetyPAD API. This script _parses_ that\n",
    "data into a CSV format.\n",
    "\n",
    "Please note that this script should work in the future, but it outputs\n",
    "`demographic_data.csv` and all of our front-to-back runs begin at that point."
   ]
  },
  {
   "cell_type": "code",
   "execution_count": null,
   "metadata": {},
   "outputs": [],
   "source": [
    "import json\n",
    "\n",
    "import pandas as pd\n",
    "\n",
    "from femsntl.datafiles import PRIVATE_DATA_DIR"
   ]
  },
  {
   "cell_type": "code",
   "execution_count": null,
   "metadata": {},
   "outputs": [],
   "source": [
    "with open(PRIVATE_DATA_DIR / \"pcrs\" / \"final.json\", \"rt\") as infile:\n",
    "    data = json.load(infile)"
   ]
  },
  {
   "cell_type": "code",
   "execution_count": null,
   "metadata": {},
   "outputs": [],
   "source": [
    "column_names = [\n",
    "    \"pcr_id\",\n",
    "    \"fems_id\",\n",
    "    \"last_name\",\n",
    "    \"first_name\",\n",
    "    \"middle_name\",\n",
    "    \"home_address\",\n",
    "    \"home_city\",\n",
    "    \"home_county\",\n",
    "    \"home_state\",\n",
    "    \"home_zip\",\n",
    "    \"home_country\",\n",
    "    \"home_tract\",\n",
    "    \"ssn\",\n",
    "    \"gender\",\n",
    "    \"race\",\n",
    "    \"age\",\n",
    "    \"age_units\",\n",
    "    \"date_of_birth\",\n",
    "    \"phone_number\",\n",
    "    \"email_address\",\n",
    "    \"drivers_license_state\",\n",
    "    \"drivers_license_number\",\n",
    "    \"method_of_payment\",\n",
    "    \"insurance_company_name\",\n",
    "    \"insurance_group_number\",\n",
    "    \"insurance_policy_number\",\n",
    "]\n",
    "\n",
    "tag_names = (\n",
    "    [\"eCase.01m\", \"eResponse.03\"]\n",
    "    + [\"ePatient.{:02d}\".format(i) for i in range(2, len(column_names) + 2 - 4)]\n",
    "    + [\"ePayment.{:02d}\".format(i) for i in [1, 10, 17, 18]]\n",
    ")"
   ]
  },
  {
   "cell_type": "code",
   "execution_count": null,
   "metadata": {},
   "outputs": [],
   "source": [
    "def is_none(x):\n",
    "    return None if x == \"None\" else x\n",
    "\n",
    "\n",
    "dict_data = [{x[\"tag\"]: is_none(x[\"text\"]) for x in datum[\"parsed\"]} for datum in data]"
   ]
  },
  {
   "cell_type": "code",
   "execution_count": null,
   "metadata": {},
   "outputs": [],
   "source": [
    "len(dict_data)"
   ]
  },
  {
   "cell_type": "code",
   "execution_count": null,
   "metadata": {},
   "outputs": [],
   "source": [
    "records = [[x[tag_name] for tag_name in tag_names] for x in dict_data]"
   ]
  },
  {
   "cell_type": "code",
   "execution_count": null,
   "metadata": {},
   "outputs": [],
   "source": [
    "len(records)"
   ]
  },
  {
   "cell_type": "code",
   "execution_count": null,
   "metadata": {},
   "outputs": [],
   "source": [
    "formatted_df = pd.DataFrame.from_records(records, columns=column_names)"
   ]
  },
  {
   "cell_type": "code",
   "execution_count": null,
   "metadata": {},
   "outputs": [],
   "source": [
    "len(formatted_df)"
   ]
  },
  {
   "cell_type": "code",
   "execution_count": null,
   "metadata": {},
   "outputs": [],
   "source": [
    "formatted_df.method_of_payment.value_counts(dropna=False)"
   ]
  },
  {
   "cell_type": "code",
   "execution_count": null,
   "metadata": {},
   "outputs": [],
   "source": [
    "formatted_df.to_csv(PRIVATE_DATA_DIR / \"demographic_data.csv\", index=False)"
   ]
  },
  {
   "cell_type": "code",
   "execution_count": null,
   "metadata": {},
   "outputs": [],
   "source": [
    "formatted_df.columns"
   ]
  },
  {
   "cell_type": "code",
   "execution_count": null,
   "metadata": {},
   "outputs": [],
   "source": [
    "formatted_df.date_of_birth.isnull().mean()"
   ]
  },
  {
   "cell_type": "code",
   "execution_count": null,
   "metadata": {},
   "outputs": [],
   "source": [
    "formatted_df.drivers_license_number.isnull().mean()"
   ]
  }
 ],
 "metadata": {
  "kernelspec": {
   "display_name": "Python 3",
   "language": "python",
   "name": "python3"
  },
  "language_info": {
   "codemirror_mode": {
    "name": "ipython",
    "version": 3
   },
   "file_extension": ".py",
   "mimetype": "text/x-python",
   "name": "python",
   "nbconvert_exporter": "python",
   "pygments_lexer": "ipython3",
   "version": "3.6.6"
  }
 },
 "nbformat": 4,
 "nbformat_minor": 2
}
