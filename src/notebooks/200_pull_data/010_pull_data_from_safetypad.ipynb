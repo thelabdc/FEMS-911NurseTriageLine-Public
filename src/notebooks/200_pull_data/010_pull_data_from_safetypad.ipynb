{
 "cells": [
  {
   "cell_type": "markdown",
   "metadata": {},
   "source": [
    "## Pulling data from the SafetyPAD API\n",
    "\n",
    "SafetyPAD is one of the systems that FEMS uses to track the outcoms of patients that\n",
    "they service. This is the script we used to pull data from that API.\n",
    "\n",
    "Please note that this script is preserved _as it was_ at the time of running as running\n",
    "it again my change the analysis. Thus, if you wish to rerun it, you will need to\n",
    "perform several steps:\n",
    "  * You will need to procure a SafetyPAD API key and fill it in below\n",
    "  * You will need to alter several of the directory names as the overall structure\n",
    "    of this repository has been refactored in the intervening time."
   ]
  },
  {
   "cell_type": "code",
   "execution_count": null,
   "metadata": {},
   "outputs": [],
   "source": [
    "import copy\n",
    "import glob\n",
    "import json\n",
    "import pickle\n",
    "import time\n",
    "from itertools import chain\n",
    "from typing import Union\n",
    "from urllib import parse\n",
    "\n",
    "import pandas as pd\n",
    "import requests\n",
    "from lxml import etree"
   ]
  },
  {
   "cell_type": "code",
   "execution_count": null,
   "metadata": {},
   "outputs": [],
   "source": [
    "API_KEY = << YOUR API KEY >>"
   ]
  },
  {
   "cell_type": "markdown",
   "metadata": {},
   "source": [
    "### Searching PCRs"
   ]
  },
  {
   "cell_type": "code",
   "execution_count": null,
   "metadata": {},
   "outputs": [],
   "source": [
    "BASE_URL = r\"https://dcfems.safetypad.com/api/\"\n",
    "\n",
    "\n",
    "def is_success(tree):\n",
    "    elts = tree.xpath(\"//safetypadapiresponse/status\")\n",
    "    if not elts:\n",
    "        return False\n",
    "    return elts[0].text == \"SUCCESS\"\n",
    "\n",
    "\n",
    "def to_dict(pcr):\n",
    "    return {elt.tag: elt.text for elt in pcr.getchildren()}\n",
    "\n",
    "\n",
    "COLUMNS = (\n",
    "    [\n",
    "        \"eCase.01m\",  # PCR ID\n",
    "        \"eResponse.01\",  # Agency Number\n",
    "        \"eResponse.02\",  # Agency Name\n",
    "        \"eResponse.03\",  # Incident Number\n",
    "        \"eResponse.05\",  # Type of servicee requested\n",
    "        \"eResponse.07\",  # Primary role of unit\n",
    "        \"eResponse.14\",  # EMS Unit Call Sign\n",
    "        \"eResponse.14s\",  # Shift\n",
    "        \"eResponse.15\",  # Level of care of unit\n",
    "        \"eDispatch.01\",  # Complaint reported by dispatch\n",
    "        \"eTimes.01\",  # PSAP Call Date/Time\n",
    "        \"eTimes.02\",  # Dispatch Notified Date/Time\n",
    "        \"eTimes.03\",  # Unit Notified by Dispatch Date/Time\n",
    "        \"eDisposition.01\",  # Destination/Transferred To, Name\n",
    "        \"eDisposition.12\",  # Incident/Patient Disposition\n",
    "        \"eScene.15\",  # Incident Street Address\n",
    "        \"eScene.17\",  # Incident City\n",
    "        \"eScene.18\",  # Incident State\n",
    "        \"eScene.19\",  # Incident ZIP Code\n",
    "        \"ePayment.01\",  # Primary Method of Payment\n",
    "        \"ePayment.10\",  # Insurance Company Name\n",
    "        \"ePayment.17\",  # Insurance Group ID\n",
    "        \"ePayment.18\",  # Insurance Policy ID Number\n",
    "        \"eNarrative.01\",  # Narrative data about the incident\n",
    "        \"eCrew.01\",  # Crew id\n",
    "        \"ePatient.18s\",  # Patient phone number type\n",
    "    ]\n",
    "    + [\n",
    "        \"ePatient.{:02d}\".format(i)\n",
    "        for i in range(2, 22)  # Patient detail; 01 causes issues\n",
    "    ]\n",
    "    + [\"ePatient.{:02d}s\".format(i) for i in range(23, 25)]  # Signature information\n",
    "    + [\"ePatient.{:02d}c\".format(i) for i in range(25, 28)]  # Hospital information\n",
    "    + [\"eOutcome.{:02d}\".format(i) for i in range(1, 18)]  # Outcome information\n",
    ")\n",
    "\n",
    "\n",
    "class ApiShim:\n",
    "    def __init__(self, api_key):\n",
    "        self.api_key = api_key\n",
    "        self.columns = \",\".join(COLUMNS)\n",
    "\n",
    "    def _action(self, action, attrs, parser=etree):\n",
    "        attrs = copy.copy(attrs)\n",
    "        attrs[\"action\"] = action\n",
    "        attrs[\"api_key\"] = self.api_key\n",
    "\n",
    "        # Pull data\n",
    "        resp = requests.get(BASE_URL + \"?\" + parse.urlencode(attrs))\n",
    "\n",
    "        # Parse data\n",
    "        tree = parser.fromstring(resp.content)\n",
    "\n",
    "        return tree\n",
    "\n",
    "    def search_pcrs(self, max_num=10):\n",
    "        tree = self._action(\"search_pcrs\", {\"max\": max_num})\n",
    "        if not is_success(tree):\n",
    "            raise ValueError(\"Something went wrong retrieving tree\")\n",
    "        data = [\n",
    "            to_dict(pcr)\n",
    "            for pcr in tree.xpath(\"//safetypadapiresponse/message/pcrs/pcr\")\n",
    "        ]\n",
    "        return pd.DataFrame(data)\n",
    "\n",
    "    def view_pcr(self, pcr_id):\n",
    "        tree = self._action(\n",
    "            \"search_pcrs\",\n",
    "            {\"e1\": 676, \"o1\": \"equals\", \"v1\": str(pcr_id), \"columns\": self.columns},\n",
    "        )\n",
    "\n",
    "        return {\n",
    "            \"raw\": etree.tostring(tree).decode(\"utf8\"),\n",
    "            \"parsed\": [\n",
    "                {\n",
    "                    \"tag\": str(node.tag),\n",
    "                    \"attributes\": dict(node.attrib),\n",
    "                    \"text\": str(node.text),\n",
    "                }\n",
    "                for node in tree.xpath(\"//pcr/*\")\n",
    "            ],\n",
    "        }"
   ]
  },
  {
   "cell_type": "code",
   "execution_count": null,
   "metadata": {},
   "outputs": [],
   "source": [
    "# Whip up a shim\n",
    "shim = ApiShim(api_key=API_KEY)\n",
    "\n",
    "# Pull some PCRs\n",
    "# shim.search_pcrs()\n",
    "\n",
    "# View a specific PCR\n",
    "# shim.view_pcr(941389)\n",
    "\n",
    "shim.view_pcr(949257)"
   ]
  },
  {
   "cell_type": "code",
   "execution_count": null,
   "metadata": {},
   "outputs": [],
   "source": [
    "# Load in pcrs to pull\n",
    "pcrs = pickle.load(open(\"PCRS_forAPI/PCR_list.pkl\", \"rb\"))"
   ]
  },
  {
   "cell_type": "code",
   "execution_count": null,
   "metadata": {},
   "outputs": [],
   "source": [
    "def _is_num(x: Union[str, int]) -> Union[int, bool]:\n",
    "    \"\"\" Try to convert a string to an int; if it fails, return False \"\"\"\n",
    "    try:\n",
    "        return int(x)\n",
    "    except:\n",
    "        return False"
   ]
  },
  {
   "cell_type": "code",
   "execution_count": null,
   "metadata": {},
   "outputs": [],
   "source": [
    "# Sort so this file can be run consistently\n",
    "pcrs = sorted(set([_is_num(x) for x in pcrs.values if _is_num(x)]))"
   ]
  },
  {
   "cell_type": "code",
   "execution_count": null,
   "metadata": {},
   "outputs": [],
   "source": [
    "# Pull data. Note that we checkpoint at various times to make sure that we don't\n",
    "# lose any data\n",
    "current_data = []\n",
    "start_at = 0\n",
    "for i, pcr_id in enumerate(pcrs[start_at:], start_at + 1):\n",
    "    if i % 40 == 0:\n",
    "        with open(\"private_data/pcrs/group_{}.json\".format(i), \"wt\") as f:\n",
    "            json.dump(current_data, f)\n",
    "        current_data = []\n",
    "        print(\"On {}/{}\".format(i, len(pcrs)))\n",
    "    data = shim.view_pcr(pcr_id)\n",
    "    current_data.append(data)\n",
    "    time.sleep(1)\n",
    "\n",
    "with open(\"private_data/pcrs/final.json\", \"wt\") as f:\n",
    "    json.dump(current_data, f)"
   ]
  },
  {
   "cell_type": "code",
   "execution_count": null,
   "metadata": {},
   "outputs": [],
   "source": [
    "# Check to see if we missed anything\n",
    "all_data = []\n",
    "\n",
    "for filename in glob.glob(\"private_data/pcrs/group*.json\"):\n",
    "    with open(filename) as f:\n",
    "        all_data.append(json.load(f))"
   ]
  },
  {
   "cell_type": "code",
   "execution_count": null,
   "metadata": {},
   "outputs": [],
   "source": [
    "len(all_data)"
   ]
  },
  {
   "cell_type": "code",
   "execution_count": null,
   "metadata": {},
   "outputs": [],
   "source": []
  },
  {
   "cell_type": "code",
   "execution_count": null,
   "metadata": {},
   "outputs": [],
   "source": [
    "data = list(chain(*all_data))"
   ]
  },
  {
   "cell_type": "code",
   "execution_count": null,
   "metadata": {},
   "outputs": [],
   "source": [
    "len(data)"
   ]
  },
  {
   "cell_type": "code",
   "execution_count": null,
   "metadata": {},
   "outputs": [],
   "source": [
    "def get_pcr(datum):\n",
    "    return [int(x[\"text\"]) for x in datum if x[\"tag\"] == \"eCase.01m\"][0]\n",
    "\n",
    "\n",
    "pulled_pcrs = {get_pcr(x[\"parsed\"]) for x in data}"
   ]
  },
  {
   "cell_type": "code",
   "execution_count": null,
   "metadata": {},
   "outputs": [],
   "source": [
    "# Any extras we missed?\n",
    "len(set(pcrs) - set(pulled_pcrs))"
   ]
  },
  {
   "cell_type": "code",
   "execution_count": null,
   "metadata": {},
   "outputs": [],
   "source": [
    "# Pull the missing ones\n",
    "current_data = []\n",
    "for i, pcr_id in enumerate(set(pcrs) - set(pulled_pcrs)):\n",
    "    print(\"On\", i)\n",
    "    this_datum = shim.view_pcr(pcr_id)\n",
    "    current_data.append(this_datum)\n",
    "    time.sleep(1)"
   ]
  },
  {
   "cell_type": "code",
   "execution_count": null,
   "metadata": {},
   "outputs": [],
   "source": [
    "# Append\n",
    "for datum in current_data:\n",
    "    data.append(datum)"
   ]
  },
  {
   "cell_type": "code",
   "execution_count": null,
   "metadata": {},
   "outputs": [],
   "source": [
    "# Are we missing any more?\n",
    "assert len(data) == len(pcrs)\n",
    "\n",
    "pulled_pcrs = {get_pcr(x[\"parsed\"]) for x in data}\n",
    "assert not (set(pcrs) - set(pulled_pcrs))"
   ]
  },
  {
   "cell_type": "code",
   "execution_count": null,
   "metadata": {},
   "outputs": [],
   "source": [
    "# Dump the data\n",
    "with open(\"private_data/pcrs/final.json\", \"wt\") as f:\n",
    "    json.dump(data, f)"
   ]
  }
 ],
 "metadata": {
  "kernelspec": {
   "display_name": "Python 3",
   "language": "python",
   "name": "python3"
  },
  "language_info": {
   "codemirror_mode": {
    "name": "ipython",
    "version": 3
   },
   "file_extension": ".py",
   "mimetype": "text/x-python",
   "name": "python",
   "nbconvert_exporter": "python",
   "pygments_lexer": "ipython3",
   "version": "3.6.6"
  }
 },
 "nbformat": 4,
 "nbformat_minor": 2
}
